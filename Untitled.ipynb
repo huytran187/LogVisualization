{
 "cells": [
  {
   "cell_type": "code",
   "execution_count": 2,
   "id": "2781ef6e-00da-4ff4-91e4-39db0fda59d7",
   "metadata": {},
   "outputs": [],
   "source": [
    "import os\n",
    "\n",
    "import pandas as pd\n",
    "import numpy as np\n",
    "import petropy as ptr\n",
    "from lasio import LASFile"
   ]
  },
  {
   "cell_type": "code",
   "execution_count": 6,
   "id": "c7f50d35-85b4-4aa6-86c8-c4d28358ffad",
   "metadata": {},
   "outputs": [],
   "source": [
    "# dir to data\n",
    "dataDir = 'data'"
   ]
  },
  {
   "cell_type": "code",
   "execution_count": 3,
   "id": "a7dd5ccf-a563-4736-8100-65b6f9be8872",
   "metadata": {},
   "outputs": [
    {
     "ename": "NameError",
     "evalue": "name 'dataDir' is not defined",
     "output_type": "error",
     "traceback": [
      "\u001b[1;31m---------------------------------------------------------------------------\u001b[0m",
      "\u001b[1;31mNameError\u001b[0m                                 Traceback (most recent call last)",
      "\u001b[1;32m<ipython-input-3-1e630ff8d34b>\u001b[0m in \u001b[0;36m<module>\u001b[1;34m\u001b[0m\n\u001b[1;32m----> 1\u001b[1;33m \u001b[1;32mfor\u001b[0m \u001b[0mroot\u001b[0m\u001b[1;33m,\u001b[0m \u001b[0msubdir\u001b[0m\u001b[1;33m,\u001b[0m \u001b[0mfiles\u001b[0m \u001b[1;32min\u001b[0m \u001b[0mos\u001b[0m\u001b[1;33m.\u001b[0m\u001b[0mwalk\u001b[0m\u001b[1;33m(\u001b[0m\u001b[0mdataDir\u001b[0m\u001b[1;33m)\u001b[0m\u001b[1;33m:\u001b[0m\u001b[1;33m\u001b[0m\u001b[1;33m\u001b[0m\u001b[0m\n\u001b[0m\u001b[0;32m      2\u001b[0m     \u001b[1;32mfor\u001b[0m \u001b[0mfile\u001b[0m \u001b[1;32min\u001b[0m \u001b[0mfiles\u001b[0m\u001b[1;33m:\u001b[0m\u001b[1;33m\u001b[0m\u001b[1;33m\u001b[0m\u001b[0m\n\u001b[0;32m      3\u001b[0m \u001b[1;33m\u001b[0m\u001b[0m\n\u001b[0;32m      4\u001b[0m         \u001b[1;32mif\u001b[0m \u001b[0mfile\u001b[0m\u001b[1;33m.\u001b[0m\u001b[0mstartswith\u001b[0m\u001b[1;33m(\u001b[0m\u001b[1;34m'~'\u001b[0m\u001b[1;33m)\u001b[0m \u001b[1;32mor\u001b[0m \u001b[0mfile\u001b[0m\u001b[1;33m.\u001b[0m\u001b[0mstartswith\u001b[0m\u001b[1;33m(\u001b[0m\u001b[1;34m'$'\u001b[0m\u001b[1;33m)\u001b[0m\u001b[1;33m:\u001b[0m\u001b[1;33m\u001b[0m\u001b[1;33m\u001b[0m\u001b[0m\n\u001b[0;32m      5\u001b[0m             \u001b[0mprint\u001b[0m\u001b[1;33m(\u001b[0m\u001b[1;34mf'{file} is an indicator, not actual file. Skip.'\u001b[0m\u001b[1;33m)\u001b[0m\u001b[1;33m\u001b[0m\u001b[1;33m\u001b[0m\u001b[0m\n",
      "\u001b[1;31mNameError\u001b[0m: name 'dataDir' is not defined"
     ]
    }
   ],
   "source": [
    "for root, subdir, files in os.walk(dataDir):\n",
    "    for file in files:\n",
    "        \n",
    "        if file.startswith('~') or file.startswith('$'): \n",
    "            print(f'{file} is an indicator, not actual file. Skip.')\n",
    "            continue\n",
    "        \n",
    "        fileDir = os.path.join(root, file)\n",
    "        \n",
    "        reader = pd.read_csv if file.endswith('.csv') else pd.read_excel \n",
    "        df = reader(fileDir)\n",
    "        "
   ]
  },
  {
   "cell_type": "code",
   "execution_count": 5,
   "id": "6c6f8b99-d0ac-4ae9-8b92-e2098c584080",
   "metadata": {},
   "outputs": [
    {
     "name": "stdout",
     "output_type": "stream",
     "text": [
      "Mnemonic   Unit  Value         Description                       \n",
      "--------   ----  -----         -----------                       \n",
      "DEPT       F     00 000 00 00  1  Depth Curve                    \n",
      "CALI       INCH  99 075 22 05  2  CALIPER                        \n",
      "DPHI       DECP  99 075 22 05  3  DENSITY POROSITY -LIME-        \n",
      "GR         GAPI  99 075 22 05  4  GAMMA RAY                      \n",
      "NPHI       DECP  99 075 22 05  5  NEUTRON POROSITY -LIME-        \n",
      "PE         B/E   99 075 22 05  6  PHOTO-ELECTRIC FACTOR          \n",
      "RHOB       G/C3  99 075 22 05  7  BULK DENSITY                   \n",
      "PHIX       DECP  99 075 22 05  8  CROSSPLOT POROSITY             \n",
      "C13        INCH  99 075 22 05  9  CALIPER PADS 1 - 3    -FACT-   \n",
      "C24        INCH  99 075 22 05  10  CALIPER PADS 2 - 4    -FACT-  \n",
      "DT         US/F  99 075 22 05  11  SONIC TRANSIT TIME            \n",
      "SPHI       DECP  99 075 22 05  12  SONIC POROSITY  -LIME-        \n",
      "GR3              99 075 22 05  13  GAMMA RAY                     \n",
      "ILD        OHMM  99 075 22 05  14  IL, DEEP RESISTIVITY          \n",
      "ILM        OHMM  99 075 22 05  15  IL, MEDIUM RESISTIVITY        \n",
      "SGRD       OHMM  99 075 22 05  16  SHORT GUARD RESISTIVITY       \n",
      "SP         MV    99 075 22 05  17  SPONTANEOUS POTENTIAL         \n",
      "CAL_N      INCH  99 075 22 05  9  CALIPER PADS 1 - 3    -FACT-   \n",
      "GR_N       GAPI  99 075 22 05  4  GAMMA RAY                      \n",
      "RESMED_N   OHMM  99 075 22 05  15  IL, MEDIUM RESISTIVITY        \n",
      "RESDEEP_N  OHMM  99 075 22 05  14  IL, DEEP RESISTIVITY          \n",
      "NPHI_N     DECP  99 075 22 05  5  NEUTRON POROSITY -LIME-        \n",
      "DPHI_N     DECP  99 075 22 05  3  DENSITY POROSITY -LIME-        \n",
      "SPHI_N     DECP  99 075 22 05  12  SONIC POROSITY  -LIME-        \n",
      "PE_N       B/E   99 075 22 05  6  PHOTO-ELECTRIC FACTOR          \n",
      "RHOB_N     G/C3  99 075 22 05  7  BULK DENSITY                   \n",
      "DTC_N      US/F  99 075 22 05  11  SONIC TRANSIT TIME            \n",
      "SP_N       MV    99 075 22 05  17  SPONTANEOUS POTENTIAL         \n"
     ]
    }
   ],
   "source": [
    "print(log.curves)"
   ]
  },
  {
   "cell_type": "code",
   "execution_count": null,
   "id": "988d58b5-5301-4491-8b95-d0d0a043dea0",
   "metadata": {},
   "outputs": [],
   "source": []
  }
 ],
 "metadata": {
  "kernelspec": {
   "display_name": "Python 3",
   "language": "python",
   "name": "python3"
  },
  "language_info": {
   "codemirror_mode": {
    "name": "ipython",
    "version": 3
   },
   "file_extension": ".py",
   "mimetype": "text/x-python",
   "name": "python",
   "nbconvert_exporter": "python",
   "pygments_lexer": "ipython3",
   "version": "3.7.10"
  }
 },
 "nbformat": 4,
 "nbformat_minor": 5
}
