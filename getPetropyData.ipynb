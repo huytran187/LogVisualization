{
 "cells": [
  {
   "cell_type": "code",
   "execution_count": 1,
   "id": "ed6c75f7-08a4-4397-8949-d612160962a1",
   "metadata": {},
   "outputs": [],
   "source": [
    "import petropy as ptr"
   ]
  },
  {
   "cell_type": "code",
   "execution_count": null,
   "id": "cd4c5032-8e90-4530-aa96-13696f619ceb",
   "metadata": {},
   "outputs": [
    {
     "name": "stdout",
     "output_type": "stream",
     "text": [
      "003_Andrews\n",
      "059_Callahan\n",
      "097_Cooke\n",
      "103_Crane\n",
      "105_Crockett\n",
      "109_Culberson\n",
      "115_Dawson\n",
      "135_Ector\n",
      "141_El Paso\n",
      "165_Gaines\n",
      "167_Galveston\n",
      "229_Hudspeth\n",
      "235_Irion\n",
      "301_Loving\n",
      "317_Martin\n",
      "371_Pecos\n",
      "383_Reagan\n",
      "413_Schleicher\n",
      "443_Terrell\n",
      "461_Upton\n"
     ]
    }
   ],
   "source": [
    "p = r'petropyData/'\n",
    "ptr.ul_lands_download(p)"
   ]
  },
  {
   "cell_type": "code",
   "execution_count": null,
   "id": "60b5c830-e052-4e68-a356-ccb1cf36f10f",
   "metadata": {},
   "outputs": [],
   "source": []
  }
 ],
 "metadata": {
  "kernelspec": {
   "display_name": "Python 3",
   "language": "python",
   "name": "python3"
  },
  "language_info": {
   "codemirror_mode": {
    "name": "ipython",
    "version": 3
   },
   "file_extension": ".py",
   "mimetype": "text/x-python",
   "name": "python",
   "nbconvert_exporter": "python",
   "pygments_lexer": "ipython3",
   "version": "3.7.10"
  }
 },
 "nbformat": 4,
 "nbformat_minor": 5
}
