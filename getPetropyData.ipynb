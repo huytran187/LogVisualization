{
 "cells": [
  {
   "cell_type": "code",
   "execution_count": 1,
   "id": "ed6c75f7-08a4-4397-8949-d612160962a1",
   "metadata": {},
   "outputs": [],
   "source": [
    "import petropy as ptr"
   ]
  },
  {
   "cell_type": "code",
   "execution_count": 2,
   "id": "cd4c5032-8e90-4530-aa96-13696f619ceb",
   "metadata": {},
   "outputs": [
    {
     "name": "stdout",
     "output_type": "stream",
     "text": [
      "003_Andrews\n",
      "059_Callahan\n",
      "097_Cooke\n",
      "103_Crane\n",
      "105_Crockett\n",
      "109_Culberson\n",
      "115_Dawson\n",
      "135_Ector\n",
      "141_El Paso\n",
      "165_Gaines\n",
      "167_Galveston\n",
      "229_Hudspeth\n",
      "235_Irion\n",
      "301_Loving\n",
      "317_Martin\n",
      "371_Pecos\n",
      "383_Reagan\n",
      "413_Schleicher\n",
      "443_Terrell\n",
      "461_Upton\n",
      "475_Ward\n",
      "495_Winkler\n",
      "Deleted\n",
      "LeaseSale126\n",
      "NO VALID API AVAILABLE\n",
      "Find Files Time: 65.03 minutes\n",
      "Number of las files: 10849\n",
      "Prcoess Filenames Time: 0.00 minutes\n"
     ]
    },
    {
     "ename": "FileNotFoundError",
     "evalue": "[Errno 2] No such file or directory: 'petropyData/Deleted\\\\4210542347_20170203_LAS(University Salt Draw 3820 EH -lasexport-2017-02-08 091526).las\\\\4210542347_20170203_LAS(University Salt Draw 3820 EH -lasexport-2017-02-08 091526).las'",
     "output_type": "error",
     "traceback": [
      "\u001b[1;31m---------------------------------------------------------------------------\u001b[0m",
      "\u001b[1;31mFileNotFoundError\u001b[0m                         Traceback (most recent call last)",
      "\u001b[1;32m<ipython-input-2-19878cd60821>\u001b[0m in \u001b[0;36m<module>\u001b[1;34m\u001b[0m\n\u001b[0;32m      1\u001b[0m \u001b[0mp\u001b[0m \u001b[1;33m=\u001b[0m \u001b[1;34mr'petropyData/'\u001b[0m\u001b[1;33m\u001b[0m\u001b[1;33m\u001b[0m\u001b[0m\n\u001b[1;32m----> 2\u001b[1;33m \u001b[0mptr\u001b[0m\u001b[1;33m.\u001b[0m\u001b[0mul_lands_download\u001b[0m\u001b[1;33m(\u001b[0m\u001b[0mp\u001b[0m\u001b[1;33m)\u001b[0m\u001b[1;33m\u001b[0m\u001b[1;33m\u001b[0m\u001b[0m\n\u001b[0m",
      "\u001b[1;32mD:\\Anaconda\\envs\\tf-gpu22\\lib\\site-packages\\petropy\\download.py\u001b[0m in \u001b[0;36mul_lands_download\u001b[1;34m(save_dir)\u001b[0m\n\u001b[0;32m    117\u001b[0m                 \u001b[0mos\u001b[0m\u001b[1;33m.\u001b[0m\u001b[0mmakedirs\u001b[0m\u001b[1;33m(\u001b[0m\u001b[0mdirect\u001b[0m\u001b[1;33m)\u001b[0m\u001b[1;33m\u001b[0m\u001b[1;33m\u001b[0m\u001b[0m\n\u001b[0;32m    118\u001b[0m             \u001b[1;32mif\u001b[0m \u001b[0mos\u001b[0m\u001b[1;33m.\u001b[0m\u001b[0mpath\u001b[0m\u001b[1;33m.\u001b[0m\u001b[0mexists\u001b[0m\u001b[1;33m(\u001b[0m\u001b[0mdest\u001b[0m\u001b[1;33m)\u001b[0m \u001b[1;33m==\u001b[0m \u001b[1;32mFalse\u001b[0m\u001b[1;33m:\u001b[0m\u001b[1;33m\u001b[0m\u001b[1;33m\u001b[0m\u001b[0m\n\u001b[1;32m--> 119\u001b[1;33m                 \u001b[1;32mwith\u001b[0m \u001b[0mopen\u001b[0m\u001b[1;33m(\u001b[0m\u001b[0mdest\u001b[0m\u001b[1;33m,\u001b[0m \u001b[1;34m'wb'\u001b[0m\u001b[1;33m)\u001b[0m \u001b[1;32mas\u001b[0m \u001b[0mlas_file\u001b[0m\u001b[1;33m:\u001b[0m\u001b[1;33m\u001b[0m\u001b[1;33m\u001b[0m\u001b[0m\n\u001b[0m\u001b[0;32m    120\u001b[0m                     \u001b[0mftp\u001b[0m\u001b[1;33m.\u001b[0m\u001b[0mretrbinary\u001b[0m\u001b[1;33m(\u001b[0m\u001b[1;34m'RETR '\u001b[0m \u001b[1;33m+\u001b[0m \u001b[0msrc\u001b[0m\u001b[1;33m,\u001b[0m \u001b[0mlas_file\u001b[0m\u001b[1;33m.\u001b[0m\u001b[0mwrite\u001b[0m\u001b[1;33m)\u001b[0m\u001b[1;33m\u001b[0m\u001b[1;33m\u001b[0m\u001b[0m\n\u001b[0;32m    121\u001b[0m         \u001b[0mftp\u001b[0m\u001b[1;33m.\u001b[0m\u001b[0mquit\u001b[0m\u001b[1;33m(\u001b[0m\u001b[1;33m)\u001b[0m\u001b[1;33m\u001b[0m\u001b[1;33m\u001b[0m\u001b[0m\n",
      "\u001b[1;31mFileNotFoundError\u001b[0m: [Errno 2] No such file or directory: 'petropyData/Deleted\\\\4210542347_20170203_LAS(University Salt Draw 3820 EH -lasexport-2017-02-08 091526).las\\\\4210542347_20170203_LAS(University Salt Draw 3820 EH -lasexport-2017-02-08 091526).las'"
     ]
    }
   ],
   "source": [
    "p = r'petropyData/'\n",
    "ptr.ul_lands_download(p)"
   ]
  },
  {
   "cell_type": "code",
   "execution_count": null,
   "id": "60b5c830-e052-4e68-a356-ccb1cf36f10f",
   "metadata": {},
   "outputs": [],
   "source": [
    "print('allo')"
   ]
  },
  {
   "cell_type": "code",
   "execution_count": null,
   "id": "8ba16f0e-e31f-49bb-bd8a-3edb168d85de",
   "metadata": {},
   "outputs": [],
   "source": []
  }
 ],
 "metadata": {
  "kernelspec": {
   "display_name": "Python 3",
   "language": "python",
   "name": "python3"
  },
  "language_info": {
   "codemirror_mode": {
    "name": "ipython",
    "version": 3
   },
   "file_extension": ".py",
   "mimetype": "text/x-python",
   "name": "python",
   "nbconvert_exporter": "python",
   "pygments_lexer": "ipython3",
   "version": "3.7.10"
  }
 },
 "nbformat": 4,
 "nbformat_minor": 5
}
